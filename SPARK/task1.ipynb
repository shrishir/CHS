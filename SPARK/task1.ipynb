{
 "cells": [
  {
   "cell_type": "code",
   "execution_count": 10,
   "id": "2df1b77b",
   "metadata": {},
   "outputs": [],
   "source": [
    "import pyspark\n",
    "from pyspark.sql import SparkSession\n",
    "from pyspark.sql.functions import col, sum\n",
    "# Create a Spark session\n",
    "spark = SparkSession.builder \\\n",
    "    .appName(\"SalesDataAnalysis\") \\\n",
    "    .getOrCreate()\n",
    "# Read the CSV file into a DataFrame\n",
    "sales_data = spark.read.csv(\"/Users/shrishir/Desktop/data.csv\", header=True, inferSchema=True)\n",
    "\n",
    "# Handle missing values by dropping rows with any missing values\n",
    "sales_data_cleaned = sales_data.dropna()\n",
    "# Remove duplicates\n",
    "sales_data_cleaned = sales_data.dropDuplicates()\n",
    "\n",
    "# Calculate total sales amount for each product\n",
    "sales_data_cleaned = sales_data_cleaned.withColumn(\"Amount\", col(\"Quantity\") * col(\"Rate\"))\n",
    "product_sales = sales_data_cleaned.groupBy(\"Product\") \\\n",
    "    .agg(sum(\"Amount\").alias(\"TotalSalesAmount\"))\n",
    "\n",
    "# Output the results to a new CSV file\n",
    "product_sales.write.csv(\"path_to_output_csv_file.csv\", header=True)\n",
    "\n",
    "# Stop the Spark session\n",
    "spark.stop()"
   ]
  },
  {
   "cell_type": "code",
   "execution_count": null,
   "id": "c494ee25",
   "metadata": {},
   "outputs": [],
   "source": []
  }
 ],
 "metadata": {
  "kernelspec": {
   "display_name": "Python 3 (ipykernel)",
   "language": "python",
   "name": "python3"
  },
  "language_info": {
   "codemirror_mode": {
    "name": "ipython",
    "version": 3
   },
   "file_extension": ".py",
   "mimetype": "text/x-python",
   "name": "python",
   "nbconvert_exporter": "python",
   "pygments_lexer": "ipython3",
   "version": "3.11.5"
  }
 },
 "nbformat": 4,
 "nbformat_minor": 5
}
